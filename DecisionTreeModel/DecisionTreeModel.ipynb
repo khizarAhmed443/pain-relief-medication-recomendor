{
  "cells": [
    {
      "cell_type": "code",
      "execution_count": null,
      "metadata": {
        "colab": {
          "base_uri": "https://localhost:8080/"
        },
        "id": "j-Y13DdRFt9m",
        "outputId": "4c7f3f91-ce8c-4864-f193-085731285f45"
      },
      "outputs": [
        {
          "name": "stdout",
          "output_type": "stream",
          "text": [
            "Drive already mounted at /content/drive; to attempt to forcibly remount, call drive.mount(\"/content/drive\", force_remount=True).\n"
          ]
        }
      ],
      "source": [
        "from google.colab import drive\n",
        "drive.mount('/content/drive')"
      ]
    },
    {
      "cell_type": "code",
      "execution_count": 36,
      "metadata": {
        "id": "JonH8zjJFpuN"
      },
      "outputs": [],
      "source": [
        "import numpy as np\n",
        "import sklearn\n",
        "import pandas as pd\n",
        "import matplotlib.pyplot as plt"
      ]
    },
    {
      "cell_type": "code",
      "execution_count": 84,
      "metadata": {
        "colab": {
          "base_uri": "https://localhost:8080/",
          "height": 206
        },
        "id": "SSx54uADFpuS",
        "outputId": "9e2254fd-4db9-4f49-afe6-8589ef6fc371"
      },
      "outputs": [
        {
          "data": {
            "text/html": [
              "\n",
              "  <div id=\"df-857c6d31-2cc9-4eae-b7fb-c372a8a17d8c\">\n",
              "    <div class=\"colab-df-container\">\n",
              "      <div>\n",
              "<style scoped>\n",
              "    .dataframe tbody tr th:only-of-type {\n",
              "        vertical-align: middle;\n",
              "    }\n",
              "\n",
              "    .dataframe tbody tr th {\n",
              "        vertical-align: top;\n",
              "    }\n",
              "\n",
              "    .dataframe thead th {\n",
              "        text-align: right;\n",
              "    }\n",
              "</style>\n",
              "<table border=\"1\" class=\"dataframe\">\n",
              "  <thead>\n",
              "    <tr style=\"text-align: right;\">\n",
              "      <th></th>\n",
              "      <th>Gender</th>\n",
              "      <th>Age</th>\n",
              "      <th>Pain Intensity</th>\n",
              "      <th>Swelling</th>\n",
              "      <th>Diab</th>\n",
              "      <th>Hypertensive</th>\n",
              "      <th>Cardiac</th>\n",
              "      <th>Liver Transplant</th>\n",
              "      <th>Kidney Transplant</th>\n",
              "      <th>Drugs</th>\n",
              "    </tr>\n",
              "  </thead>\n",
              "  <tbody>\n",
              "    <tr>\n",
              "      <th>0</th>\n",
              "      <td>male</td>\n",
              "      <td>40</td>\n",
              "      <td>severe</td>\n",
              "      <td>Y</td>\n",
              "      <td>N</td>\n",
              "      <td>Y</td>\n",
              "      <td>Y</td>\n",
              "      <td>N</td>\n",
              "      <td>N</td>\n",
              "      <td>DrugB</td>\n",
              "    </tr>\n",
              "    <tr>\n",
              "      <th>1</th>\n",
              "      <td>female</td>\n",
              "      <td>35</td>\n",
              "      <td>mild</td>\n",
              "      <td>N</td>\n",
              "      <td>N</td>\n",
              "      <td>Y</td>\n",
              "      <td>N</td>\n",
              "      <td>N</td>\n",
              "      <td>N</td>\n",
              "      <td>DrugA</td>\n",
              "    </tr>\n",
              "    <tr>\n",
              "      <th>2</th>\n",
              "      <td>male</td>\n",
              "      <td>42</td>\n",
              "      <td>normal</td>\n",
              "      <td>N</td>\n",
              "      <td>Y</td>\n",
              "      <td>Y</td>\n",
              "      <td>N</td>\n",
              "      <td>N</td>\n",
              "      <td>N</td>\n",
              "      <td>DrugA</td>\n",
              "    </tr>\n",
              "    <tr>\n",
              "      <th>3</th>\n",
              "      <td>male</td>\n",
              "      <td>15</td>\n",
              "      <td>normal</td>\n",
              "      <td>N</td>\n",
              "      <td>N</td>\n",
              "      <td>N</td>\n",
              "      <td>N</td>\n",
              "      <td>N</td>\n",
              "      <td>N</td>\n",
              "      <td>DrugC</td>\n",
              "    </tr>\n",
              "    <tr>\n",
              "      <th>4</th>\n",
              "      <td>female</td>\n",
              "      <td>34</td>\n",
              "      <td>normal</td>\n",
              "      <td>N</td>\n",
              "      <td>N</td>\n",
              "      <td>N</td>\n",
              "      <td>N</td>\n",
              "      <td>N</td>\n",
              "      <td>N</td>\n",
              "      <td>DrugC</td>\n",
              "    </tr>\n",
              "  </tbody>\n",
              "</table>\n",
              "</div>\n",
              "      <button class=\"colab-df-convert\" onclick=\"convertToInteractive('df-857c6d31-2cc9-4eae-b7fb-c372a8a17d8c')\"\n",
              "              title=\"Convert this dataframe to an interactive table.\"\n",
              "              style=\"display:none;\">\n",
              "        \n",
              "  <svg xmlns=\"http://www.w3.org/2000/svg\" height=\"24px\"viewBox=\"0 0 24 24\"\n",
              "       width=\"24px\">\n",
              "    <path d=\"M0 0h24v24H0V0z\" fill=\"none\"/>\n",
              "    <path d=\"M18.56 5.44l.94 2.06.94-2.06 2.06-.94-2.06-.94-.94-2.06-.94 2.06-2.06.94zm-11 1L8.5 8.5l.94-2.06 2.06-.94-2.06-.94L8.5 2.5l-.94 2.06-2.06.94zm10 10l.94 2.06.94-2.06 2.06-.94-2.06-.94-.94-2.06-.94 2.06-2.06.94z\"/><path d=\"M17.41 7.96l-1.37-1.37c-.4-.4-.92-.59-1.43-.59-.52 0-1.04.2-1.43.59L10.3 9.45l-7.72 7.72c-.78.78-.78 2.05 0 2.83L4 21.41c.39.39.9.59 1.41.59.51 0 1.02-.2 1.41-.59l7.78-7.78 2.81-2.81c.8-.78.8-2.07 0-2.86zM5.41 20L4 18.59l7.72-7.72 1.47 1.35L5.41 20z\"/>\n",
              "  </svg>\n",
              "      </button>\n",
              "      \n",
              "  <style>\n",
              "    .colab-df-container {\n",
              "      display:flex;\n",
              "      flex-wrap:wrap;\n",
              "      gap: 12px;\n",
              "    }\n",
              "\n",
              "    .colab-df-convert {\n",
              "      background-color: #E8F0FE;\n",
              "      border: none;\n",
              "      border-radius: 50%;\n",
              "      cursor: pointer;\n",
              "      display: none;\n",
              "      fill: #1967D2;\n",
              "      height: 32px;\n",
              "      padding: 0 0 0 0;\n",
              "      width: 32px;\n",
              "    }\n",
              "\n",
              "    .colab-df-convert:hover {\n",
              "      background-color: #E2EBFA;\n",
              "      box-shadow: 0px 1px 2px rgba(60, 64, 67, 0.3), 0px 1px 3px 1px rgba(60, 64, 67, 0.15);\n",
              "      fill: #174EA6;\n",
              "    }\n",
              "\n",
              "    [theme=dark] .colab-df-convert {\n",
              "      background-color: #3B4455;\n",
              "      fill: #D2E3FC;\n",
              "    }\n",
              "\n",
              "    [theme=dark] .colab-df-convert:hover {\n",
              "      background-color: #434B5C;\n",
              "      box-shadow: 0px 1px 3px 1px rgba(0, 0, 0, 0.15);\n",
              "      filter: drop-shadow(0px 1px 2px rgba(0, 0, 0, 0.3));\n",
              "      fill: #FFFFFF;\n",
              "    }\n",
              "  </style>\n",
              "\n",
              "      <script>\n",
              "        const buttonEl =\n",
              "          document.querySelector('#df-857c6d31-2cc9-4eae-b7fb-c372a8a17d8c button.colab-df-convert');\n",
              "        buttonEl.style.display =\n",
              "          google.colab.kernel.accessAllowed ? 'block' : 'none';\n",
              "\n",
              "        async function convertToInteractive(key) {\n",
              "          const element = document.querySelector('#df-857c6d31-2cc9-4eae-b7fb-c372a8a17d8c');\n",
              "          const dataTable =\n",
              "            await google.colab.kernel.invokeFunction('convertToInteractive',\n",
              "                                                     [key], {});\n",
              "          if (!dataTable) return;\n",
              "\n",
              "          const docLinkHtml = 'Like what you see? Visit the ' +\n",
              "            '<a target=\"_blank\" href=https://colab.research.google.com/notebooks/data_table.ipynb>data table notebook</a>'\n",
              "            + ' to learn more about interactive tables.';\n",
              "          element.innerHTML = '';\n",
              "          dataTable['output_type'] = 'display_data';\n",
              "          await google.colab.output.renderOutput(dataTable, element);\n",
              "          const docLink = document.createElement('div');\n",
              "          docLink.innerHTML = docLinkHtml;\n",
              "          element.appendChild(docLink);\n",
              "        }\n",
              "      </script>\n",
              "    </div>\n",
              "  </div>\n",
              "  "
            ],
            "text/plain": [
              "   Gender  Age Pain Intensity Swelling Diab Hypertensive Cardiac  \\\n",
              "0    male   40        severe         Y    N            Y       Y   \n",
              "1  female   35          mild         N    N            Y       N   \n",
              "2    male   42         normal        N    Y            Y       N   \n",
              "3    male   15         normal        N    N            N       N   \n",
              "4  female   34         normal        N    N            N       N   \n",
              "\n",
              "  Liver Transplant Kidney Transplant  Drugs  \n",
              "0                N                 N  DrugB  \n",
              "1                N                 N  DrugA  \n",
              "2                N                 N  DrugA  \n",
              "3                N                 N  DrugC  \n",
              "4                N                 N  DrugC  "
            ]
          },
          "execution_count": 84,
          "metadata": {},
          "output_type": "execute_result"
        }
      ],
      "source": [
        "df = pd.read_csv(\"/content/drive/MyDrive/DatasetMedication.csv\")\n",
        "\n",
        "df.head()"
      ]
    },
    {
      "cell_type": "code",
      "execution_count": 85,
      "metadata": {
        "colab": {
          "base_uri": "https://localhost:8080/"
        },
        "id": "8KAB_ngnFpuV",
        "outputId": "e35fc703-3fae-4f3e-b12f-bffe13bbb1aa"
      },
      "outputs": [
        {
          "name": "stdout",
          "output_type": "stream",
          "text": [
            "The dataset consists of 40 patients and 10 features.\n"
          ]
        }
      ],
      "source": [
        "print(\"The dataset consists of {} patients and {} features.\".format(df.shape[0], df.shape[1]))"
      ]
    },
    {
      "cell_type": "code",
      "execution_count": 90,
      "metadata": {
        "colab": {
          "base_uri": "https://localhost:8080/"
        },
        "id": "6pOwslJLM-iW",
        "outputId": "3d90a5f0-4634-4ed0-f779-dce39e8f3ec8"
      },
      "outputs": [
        {
          "name": "stdout",
          "output_type": "stream",
          "text": [
            "Independent variable matrix:\n",
            "[['male' 40 'severe ' 'Y' 'N' 'Y' 'Y' 'N' 'N']\n",
            " ['female' 35 'mild ' 'N' 'N' 'Y' 'N' 'N' 'N']\n",
            " ['male' 42 'normal' 'N' 'Y' 'Y' 'N' 'N' 'N']]\n",
            "\n",
            " Dependent variable matrix:\n",
            "['DrugB' 'DrugA' 'DrugA']\n"
          ]
        }
      ],
      "source": [
        "X = df[['Gender', 'Age', 'Pain Intensity', 'Swelling', 'Diab', 'Hypertensive', 'Cardiac', 'Liver Transplant', 'Kidney Transplant']].values\n",
        "y = df['Drugs'].values\n",
        "print(\"Independent variable matrix:\\n{}\\n\\n Dependent variable matrix:\\n{}\".format(X[:3], y[:3]))"
      ]
    },
    {
      "cell_type": "code",
      "execution_count": 101,
      "metadata": {
        "colab": {
          "base_uri": "https://localhost:8080/"
        },
        "id": "RAhi3yiGTB5l",
        "outputId": "2c06f46b-23b7-4da3-ef29-c50a5a828c6e"
      },
      "outputs": [
        {
          "name": "stdout",
          "output_type": "stream",
          "text": [
            "Transformed dataset:\n",
            "   Gender  Age  Pain Intensity  Swelling  Diab  Hypertensive  Cardiac  \\\n",
            "0       1   40               2         1     0             1        1   \n",
            "1       0   35               0         0     0             1        0   \n",
            "2       1   42               1         0     1             1        0   \n",
            "\n",
            "   Liver Transplant  Kidney Transplant  \n",
            "0                 0                  0  \n",
            "1                 0                  0  \n",
            "2                 0                  0  \n"
          ]
        }
      ],
      "source": [
        "from sklearn.preprocessing import LabelEncoder\n",
        "\n",
        "# Read the data into a pandas DataFrame\n",
        "df = pd.DataFrame(X, columns=['Gender', 'Age', 'Pain Intensity', 'Swelling', 'Diab', 'Hypertensive', 'Cardiac', 'Liver Transplant', 'Kidney Transplant'])\n",
        "\n",
        "# Remove extra white spaces from all columns\n",
        "df = df.applymap(lambda x: x.strip() if isinstance(x, str) else x)\n",
        "\n",
        "\n",
        "# Convert values to lowercase for the 'Swelling', 'Diab', 'Hypertensive', 'Cardiac', 'Liver Transplant', and 'Drugs' columns\n",
        "lowercase_columns = ['Swelling', 'Diab', 'Hypertensive', 'Cardiac', 'Liver Transplant', 'Kidney Transplant']\n",
        "for col in lowercase_columns:\n",
        "    df[col] = df[col].str.lower()\n",
        "\n",
        "# Apply label encoding\n",
        "for col in ['Gender', 'Pain Intensity', 'Swelling', 'Diab', 'Hypertensive', 'Cardiac', 'Liver Transplant', 'Kidney Transplant']:\n",
        "    converter = LabelEncoder()\n",
        "    df[col] = converter.fit_transform(df[col])\n",
        "\n",
        "\n",
        "print(\"Transformed dataset:\\n{}\".format(df[:3]))"
      ]
    },
    {
      "cell_type": "markdown",
      "metadata": {
        "id": "dEzzjOj7FpuY"
      },
      "source": [
        "Since there are non-numerical values, we must convert them before training the model with them."
      ]
    },
    {
      "cell_type": "code",
      "execution_count": 92,
      "metadata": {
        "colab": {
          "base_uri": "https://localhost:8080/"
        },
        "id": "7BKIZeO4Fpuc",
        "outputId": "81130fb1-6b09-4a9c-aa63-eaf6a252bcb2"
      },
      "outputs": [
        {
          "name": "stdout",
          "output_type": "stream",
          "text": [
            "Training data consists of 30 patients having 9 features.\n",
            "Test data consists of 10 patients having 5 features.\n"
          ]
        }
      ],
      "source": [
        "from sklearn.model_selection import train_test_split\n",
        "training_X, test_X, training_y, test_y = sklearn.model_selection.train_test_split(df, y, test_size=0.25)\n",
        "\n",
        "print(\"Training data consists of {} patients having {} features.\".format(training_X.shape[0], training_X.shape[1]))\n",
        "print(\"Test data consists of {} patients having 5 features.\".format(test_X.shape[0]))"
      ]
    },
    {
      "cell_type": "code",
      "execution_count": 111,
      "metadata": {
        "colab": {
          "base_uri": "https://localhost:8080/"
        },
        "id": "j6bAJpXvFpue",
        "outputId": "2367e395-fe10-461d-9b7d-95d3782cdcb7"
      },
      "outputs": [
        {
          "name": "stdout",
          "output_type": "stream",
          "text": [
            "Real labels: ['DrugA' 'DrugC' 'DrugC' 'DrugA']\n",
            "Predicted labels: ['DrugC']\n"
          ]
        },
        {
          "name": "stderr",
          "output_type": "stream",
          "text": [
            "/usr/local/lib/python3.10/dist-packages/sklearn/base.py:439: UserWarning: X does not have valid feature names, but DecisionTreeClassifier was fitted with feature names\n",
            "  warnings.warn(\n"
          ]
        }
      ],
      "source": [
        "from sklearn.tree import DecisionTreeClassifier\n",
        "\n",
        "model = sklearn.tree.DecisionTreeClassifier(criterion=\"entropy\", max_depth=40)\n",
        "model.fit(training_X, training_y)\n",
        "\n",
        "predictions = model.predict([[0, 40, 2, 0, 0, 0, 1, 0, 0]])\n",
        "\n",
        "#Let's see if our predictions are true:\n",
        "print(\"Real labels: {}\\nPredicted labels: {}\".format(test_y[:4], predictions[:4]))"
      ]
    },
    {
      "cell_type": "code",
      "execution_count": 105,
      "metadata": {
        "id": "Gvam0xQRXtZW"
      },
      "outputs": [],
      "source": [
        "import pickle\n",
        "\n",
        "# Save the trained model to a file\n",
        "with open('model.pkl', 'wb') as file:\n",
        "    pickle.dump(model, file)"
      ]
    },
    {
      "cell_type": "code",
      "execution_count": 99,
      "metadata": {
        "colab": {
          "base_uri": "https://localhost:8080/"
        },
        "id": "QMWt6XN1Fpug",
        "outputId": "8e82fe9f-59d8-41b9-b158-b1353af3a713"
      },
      "outputs": [
        {
          "name": "stdout",
          "output_type": "stream",
          "text": [
            "Accuracy of our model: 0.90\n"
          ]
        }
      ],
      "source": [
        "from sklearn import metrics\n",
        "print(\"Accuracy of our model: %.2f\" %metrics.accuracy_score(test_y, predictions))"
      ]
    },
    {
      "cell_type": "code",
      "execution_count": 100,
      "metadata": {
        "colab": {
          "base_uri": "https://localhost:8080/",
          "height": 406
        },
        "id": "teAHrivDFpuh",
        "outputId": "c27ef584-a825-46e6-86bf-f6927c4d997e"
      },
      "outputs": [
        {
          "data": {
            "image/png": "[encoded data removed]",
            "text/plain": [
              "<Figure size 640x480 with 1 Axes>"
            ]
          },
          "metadata": {},
          "output_type": "display_data"
        }
      ],
      "source": [
        "sklearn.tree.plot_tree(model)\n",
        "plt.show()"
      ]
    }
  ],
  "metadata": {
    "colab": {
      "provenance": []
    },
    "kernelspec": {
      "display_name": "levi",
      "language": "python",
      "name": "python3"
    },
    "language_info": {
      "codemirror_mode": {
        "name": "ipython",
        "version": 3
      },
      "file_extension": ".py",
      "mimetype": "text/x-python",
      "name": "python",
      "nbconvert_exporter": "python",
      "pygments_lexer": "ipython3",
      "version": "3.9.16"
    },
    "orig_nbformat": 4,
    "vscode": {
      "interpreter": {
        "hash": "cc74c03df4673741e93e3f8bee9b1f1dc09b6f8571c8684eac161cc53b688e0f"
      }
    }
  },
  "nbformat": 4,
  "nbformat_minor": 0
}
